{
  "nbformat": 4,
  "nbformat_minor": 0,
  "metadata": {
    "colab": {
      "provenance": [],
      "authorship_tag": "ABX9TyObuOEMVPFnKzb1xcClq1TF",
      "include_colab_link": true
    },
    "kernelspec": {
      "name": "python3",
      "display_name": "Python 3"
    },
    "language_info": {
      "name": "python"
    }
  },
  "cells": [
    {
      "cell_type": "markdown",
      "metadata": {
        "id": "view-in-github",
        "colab_type": "text"
      },
      "source": [
        "<a href=\"https://colab.research.google.com/github/azhan9848/machine-learning/blob/main/multiple%20linear%20regression.ipynb\" target=\"_parent\"><img src=\"https://colab.research.google.com/assets/colab-badge.svg\" alt=\"Open In Colab\"/></a>"
      ]
    },
    {
      "cell_type": "code",
      "execution_count": 1,
      "metadata": {
        "colab": {
          "base_uri": "https://localhost:8080/"
        },
        "id": "ZY0SQWs0ntiS",
        "outputId": "a58914c8-0022-436f-a479-bfa68498da2b"
      },
      "outputs": [
        {
          "output_type": "stream",
          "name": "stdout",
          "text": [
            "                            OLS Regression Results                            \n",
            "==============================================================================\n",
            "Dep. Variable:       Final_Exam_Score   R-squared:                       1.000\n",
            "Model:                            OLS   Adj. R-squared:                    nan\n",
            "Method:                 Least Squares   F-statistic:                       nan\n",
            "Date:                Tue, 27 Aug 2024   Prob (F-statistic):                nan\n",
            "Time:                        15:46:00   Log-Likelihood:                 81.058\n",
            "No. Observations:                   3   AIC:                            -156.1\n",
            "Df Residuals:                       0   BIC:                            -158.8\n",
            "Df Model:                           2                                         \n",
            "Covariance Type:            nonrobust                                         \n",
            "========================================================================================\n",
            "                           coef    std err          t      P>|t|      [0.025      0.975]\n",
            "----------------------------------------------------------------------------------------\n",
            "const                    1.0012        inf          0        nan         nan         nan\n",
            "Hours_Studied           -6.6427        inf         -0        nan         nan         nan\n",
            "Previous_Test_Scores     1.8285        inf          0        nan         nan         nan\n",
            "Attendance           -2.942e-14        inf         -0        nan         nan         nan\n",
            "==============================================================================\n",
            "Omnibus:                          nan   Durbin-Watson:                   0.034\n",
            "Prob(Omnibus):                    nan   Jarque-Bera (JB):                0.516\n",
            "Skew:                          -0.686   Prob(JB):                        0.772\n",
            "Kurtosis:                       1.500   Cond. No.                         443.\n",
            "==============================================================================\n",
            "\n",
            "Notes:\n",
            "[1] Standard Errors assume that the covariance matrix of the errors is correctly specified.\n",
            "[2] The input rank is higher than the number of observations.\n"
          ]
        },
        {
          "output_type": "stream",
          "name": "stderr",
          "text": [
            "/usr/local/lib/python3.10/dist-packages/statsmodels/stats/stattools.py:74: ValueWarning: omni_normtest is not valid with less than 8 observations; 3 samples were given.\n",
            "  warn(\"omni_normtest is not valid with less than 8 observations; %i \"\n",
            "/usr/local/lib/python3.10/dist-packages/statsmodels/regression/linear_model.py:1796: RuntimeWarning: divide by zero encountered in divide\n",
            "  return 1 - (np.divide(self.nobs - self.k_constant, self.df_resid)\n",
            "/usr/local/lib/python3.10/dist-packages/statsmodels/regression/linear_model.py:1796: RuntimeWarning: invalid value encountered in scalar multiply\n",
            "  return 1 - (np.divide(self.nobs - self.k_constant, self.df_resid)\n",
            "/usr/local/lib/python3.10/dist-packages/statsmodels/regression/linear_model.py:1718: RuntimeWarning: divide by zero encountered in scalar divide\n",
            "  return np.dot(wresid, wresid) / self.df_resid\n"
          ]
        }
      ],
      "source": [
        "import statsmodels.api as sm\n",
        "import pandas as pd\n",
        "\n",
        "# Creating a DataFrame from the data\n",
        "data = {\n",
        "    'Hours_Studied': [10, 8, ..., 12],\n",
        "    'Previous_Test_Scores': [85, 75, ..., 95],\n",
        "    'Attendance': [90, 80, ..., 95],\n",
        "    'Final_Exam_Score': [90, 85, ..., 95]\n",
        "}\n",
        "df = pd.DataFrame(data)\n",
        "\n",
        "# Convert the DataFrame to numeric type\n",
        "df = df.apply(pd.to_numeric, errors='coerce')\n",
        "\n",
        "# Drop rows with missing values\n",
        "df = df.dropna()\n",
        "\n",
        "# Independent variables\n",
        "X = df[['Hours_Studied', 'Previous_Test_Scores', 'Attendance']]\n",
        "\n",
        "# Dependent variable\n",
        "Y = df['Final_Exam_Score']\n",
        "\n",
        "# Adding a constant term\n",
        "X = sm.add_constant(X)\n",
        "\n",
        "# Fit the regression model\n",
        "model = sm.OLS(Y, X).fit()\n",
        "\n",
        "# Print the summary of the regression model\n",
        "print(model.summary())\n"
      ]
    }
  ]
}